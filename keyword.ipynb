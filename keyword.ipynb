{
 "cells": [
  {
   "cell_type": "markdown",
   "metadata": {},
   "source": [
    "# 텍스트 분석\n",
    "워드 임베딩: \n",
    "\n",
    "카운트 기반 벡터화; \n",
    "- Bag of words; 단어들에 대해 츨현 횟수를 부여하는 방법, 문맥&순서는 무시\n",
    "    'and':0' 'baseball:3' \n",
    "  \n",
    "-- 희소행렬 문제 발생\n",
    "\n",
    "원핫인코딩\n",
    "\n",
    "TF-IDF: 빈도수 기반 텍스트 벡터화 방법\n",
    "(term frequency - inverse document frequency)\n",
    "공통적으로 많이 존재하는 단어 - 벡터화 작게\n",
    "한 문서에만 많은 단어 - 벡터화 크게\n",
    "- 모든 문서에 흔한 단어 제거 가능\n",
    "\n",
    "\n"
   ]
  }
 ],
 "metadata": {
  "kernelspec": {
   "display_name": "Python 3",
   "language": "python",
   "name": "python3"
  },
  "language_info": {
   "codemirror_mode": {
    "name": "ipython",
    "version": 3
   },
   "file_extension": ".py",
   "mimetype": "text/x-python",
   "name": "python",
   "nbconvert_exporter": "python",
   "pygments_lexer": "ipython3",
   "version": "3.7.6"
  }
 },
 "nbformat": 4,
 "nbformat_minor": 4
}
