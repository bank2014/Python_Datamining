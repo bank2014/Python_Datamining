{
 "cells": [
  {
   "cell_type": "markdown",
   "metadata": {},
   "source": [
    "# 텍스트 분석\n",
    "\n",
    "### 카운트 기반 벡터화  \n",
    "Bag of words\n",
    "- 단어들에 대해 츨현 횟수를 부여하는 방법, 문맥&순서는 무시\n",
    "- 'and':0' 'baseball:3' \n",
    "- 희소행렬 문제 발생\n",
    "\n",
    "TF-IDF\n",
    "- 빈도수 기반 텍스트 벡터화 방법\n",
    "- (term frequency - inverse document frequency)\n",
    "- 공통적으로 많이 존재하는 단어 - 벡터화 작게\n",
    "- 한 문서에만 많은 단어 - 벡터화 크게\n",
    "- 모든 문서에 흔한 단어 제거 가능"
   ]
  },
  {
   "cell_type": "markdown",
   "metadata": {},
   "source": [
    "전처리\n",
    "- 목적: 분석의 정확도를 높이기 위해 \n",
    "- 전처리에서 수행하는 작업 6가지\n",
    "\n",
    "워드클라우드\n",
    "- 수치데이터 -> 가시화 (가시성을 높히는 기법)\n"
   ]
  },
  {
   "cell_type": "code",
   "execution_count": 2,
   "metadata": {
    "scrolled": true
   },
   "outputs": [
    {
     "name": "stdout",
     "output_type": "stream",
     "text": [
      "Requirement already satisfied: matplotlib in c:\\users\\user\\anaconda3\\lib\\site-packages (3.1.3)\n",
      "Requirement already satisfied: kiwisolver>=1.0.1 in c:\\users\\user\\anaconda3\\lib\\site-packages (from matplotlib) (1.1.0)\n",
      "Requirement already satisfied: numpy>=1.11 in c:\\users\\user\\anaconda3\\lib\\site-packages (from matplotlib) (1.18.1)\n",
      "Requirement already satisfied: pyparsing!=2.0.4,!=2.1.2,!=2.1.6,>=2.0.1 in c:\\users\\user\\anaconda3\\lib\\site-packages (from matplotlib) (2.4.6)\n",
      "Requirement already satisfied: python-dateutil>=2.1 in c:\\users\\user\\anaconda3\\lib\\site-packages (from matplotlib) (2.8.1)\n",
      "Requirement already satisfied: cycler>=0.10 in c:\\users\\user\\anaconda3\\lib\\site-packages (from matplotlib) (0.10.0)\n",
      "Requirement already satisfied: setuptools in c:\\users\\user\\anaconda3\\lib\\site-packages (from kiwisolver>=1.0.1->matplotlib) (45.2.0.post20200210)\n",
      "Requirement already satisfied: six>=1.5 in c:\\users\\user\\anaconda3\\lib\\site-packages (from python-dateutil>=2.1->matplotlib) (1.14.0)\n"
     ]
    }
   ],
   "source": [
    "!pip install matplotlib"
   ]
  },
  {
   "cell_type": "code",
   "execution_count": 3,
   "metadata": {
    "scrolled": true
   },
   "outputs": [
    {
     "name": "stdout",
     "output_type": "stream",
     "text": [
      "Collecting wordcloud\n",
      "  Downloading wordcloud-1.8.2.2-cp37-cp37m-win_amd64.whl (152 kB)\n",
      "Requirement already satisfied: matplotlib in c:\\users\\user\\anaconda3\\lib\\site-packages (from wordcloud) (3.1.3)\n",
      "Requirement already satisfied: pillow in c:\\users\\user\\anaconda3\\lib\\site-packages (from wordcloud) (7.0.0)\n",
      "Requirement already satisfied: numpy>=1.6.1 in c:\\users\\user\\anaconda3\\lib\\site-packages (from wordcloud) (1.18.1)\n",
      "Requirement already satisfied: python-dateutil>=2.1 in c:\\users\\user\\anaconda3\\lib\\site-packages (from matplotlib->wordcloud) (2.8.1)\n",
      "Requirement already satisfied: cycler>=0.10 in c:\\users\\user\\anaconda3\\lib\\site-packages (from matplotlib->wordcloud) (0.10.0)\n",
      "Requirement already satisfied: pyparsing!=2.0.4,!=2.1.2,!=2.1.6,>=2.0.1 in c:\\users\\user\\anaconda3\\lib\\site-packages (from matplotlib->wordcloud) (2.4.6)\n",
      "Requirement already satisfied: kiwisolver>=1.0.1 in c:\\users\\user\\anaconda3\\lib\\site-packages (from matplotlib->wordcloud) (1.1.0)\n",
      "Requirement already satisfied: six>=1.5 in c:\\users\\user\\anaconda3\\lib\\site-packages (from python-dateutil>=2.1->matplotlib->wordcloud) (1.14.0)\n",
      "Requirement already satisfied: setuptools in c:\\users\\user\\anaconda3\\lib\\site-packages (from kiwisolver>=1.0.1->matplotlib->wordcloud) (45.2.0.post20200210)\n",
      "Installing collected packages: wordcloud\n",
      "Successfully installed wordcloud-1.8.2.2\n"
     ]
    }
   ],
   "source": [
    "!pip install wordcloud"
   ]
  },
  {
   "cell_type": "code",
   "execution_count": 5,
   "metadata": {},
   "outputs": [],
   "source": [
    "import pandas as pd\n",
    "import glob\n",
    "import re\n",
    "from functools import reduce\n",
    "from nltk.tokenize import word_tokenize\n",
    "from nltk.corpus import stopwords\n",
    "from nltk.stem import WordNetLemmatizer\n",
    "from collections import Counter\n",
    "import matplotlib.pyplot as plt\n",
    "from wordcloud import STOPWORDS, WordCloud\n",
    "# 패키지별 용도는 ppt참조"
   ]
  },
  {
   "cell_type": "code",
   "execution_count": 7,
   "metadata": {},
   "outputs": [
    {
     "data": {
      "text/plain": [
       "['8장_data\\\\myCabinetExcelData (1).xls',\n",
       " '8장_data\\\\myCabinetExcelData (2).xls',\n",
       " '8장_data\\\\myCabinetExcelData (3).xls',\n",
       " '8장_data\\\\myCabinetExcelData (4).xls',\n",
       " '8장_data\\\\myCabinetExcelData (5).xls',\n",
       " '8장_data\\\\myCabinetExcelData (6).xls',\n",
       " '8장_data\\\\myCabinetExcelData (7).xls',\n",
       " '8장_data\\\\myCabinetExcelData (8).xls',\n",
       " '8장_data\\\\myCabinetExcelData (9).xls',\n",
       " '8장_data\\\\myCabinetExcelData.xls']"
      ]
     },
     "execution_count": 7,
     "metadata": {},
     "output_type": "execute_result"
    }
   ],
   "source": [
    "all_files = glob.glob('8장_data/myCabinetExcelData*.xls') # 파일 병합\n",
    "all_files #출력하여 내용 확인"
   ]
  },
  {
   "cell_type": "code",
   "execution_count": 9,
   "metadata": {},
   "outputs": [
    {
     "data": {
      "text/html": [
       "<div>\n",
       "<style scoped>\n",
       "    .dataframe tbody tr th:only-of-type {\n",
       "        vertical-align: middle;\n",
       "    }\n",
       "\n",
       "    .dataframe tbody tr th {\n",
       "        vertical-align: top;\n",
       "    }\n",
       "\n",
       "    .dataframe thead th {\n",
       "        text-align: right;\n",
       "    }\n",
       "</style>\n",
       "<table border=\"1\" class=\"dataframe\">\n",
       "  <thead>\n",
       "    <tr style=\"text-align: right;\">\n",
       "      <th></th>\n",
       "      <th>Unnamed: 0</th>\n",
       "      <th>번호</th>\n",
       "      <th>제목</th>\n",
       "      <th>저자</th>\n",
       "      <th>출판사</th>\n",
       "      <th>출판일</th>\n",
       "    </tr>\n",
       "  </thead>\n",
       "  <tbody>\n",
       "    <tr>\n",
       "      <th>0</th>\n",
       "      <td>NaN</td>\n",
       "      <td>1</td>\n",
       "      <td>Call for Special Issue Papers: Big Data Analyt...</td>\n",
       "      <td>Balamurugan, S.; Muthu, Bala Anand; Peng, Shen...</td>\n",
       "      <td>Mary Ann Leibert</td>\n",
       "      <td>2020</td>\n",
       "    </tr>\n",
       "    <tr>\n",
       "      <th>1</th>\n",
       "      <td>NaN</td>\n",
       "      <td>2</td>\n",
       "      <td>Interview with Dr. Silvio Carta, Author of the...</td>\n",
       "      <td>Carta, Silvio</td>\n",
       "      <td>Mary Ann Leibert</td>\n",
       "      <td>2019</td>\n",
       "    </tr>\n",
       "    <tr>\n",
       "      <th>2</th>\n",
       "      <td>NaN</td>\n",
       "      <td>3</td>\n",
       "      <td>Online Analytical Processing for Business Inte...</td>\n",
       "      <td>Patel, Jigna Ashish; Sharma, Priyanka</td>\n",
       "      <td>Mary Ann Leibert</td>\n",
       "      <td>2020</td>\n",
       "    </tr>\n",
       "    <tr>\n",
       "      <th>3</th>\n",
       "      <td>NaN</td>\n",
       "      <td>4</td>\n",
       "      <td>A Big Data Guide to Understanding Climate Chan...</td>\n",
       "      <td>unknown</td>\n",
       "      <td>Mary Ann Leibert</td>\n",
       "      <td>2014</td>\n",
       "    </tr>\n",
       "    <tr>\n",
       "      <th>4</th>\n",
       "      <td>NaN</td>\n",
       "      <td>5</td>\n",
       "      <td>Call for Papers: Special Issue on Big Data in ...</td>\n",
       "      <td>unknown</td>\n",
       "      <td>Mary Ann Leibert</td>\n",
       "      <td>2016</td>\n",
       "    </tr>\n",
       "    <tr>\n",
       "      <th>...</th>\n",
       "      <td>...</td>\n",
       "      <td>...</td>\n",
       "      <td>...</td>\n",
       "      <td>...</td>\n",
       "      <td>...</td>\n",
       "      <td>...</td>\n",
       "    </tr>\n",
       "    <tr>\n",
       "      <th>95</th>\n",
       "      <td>NaN</td>\n",
       "      <td>96</td>\n",
       "      <td>2016 Index IEEE Transactions on Big Data Vol. 2</td>\n",
       "      <td>unknown</td>\n",
       "      <td>unknown</td>\n",
       "      <td>2017</td>\n",
       "    </tr>\n",
       "    <tr>\n",
       "      <th>96</th>\n",
       "      <td>NaN</td>\n",
       "      <td>97</td>\n",
       "      <td>Distributed Feature Selection for Efficient Ec...</td>\n",
       "      <td>Zhao, L.; Chen, Z.; Hu, Y.; Min, G.; Jiang, Z.</td>\n",
       "      <td>unknown</td>\n",
       "      <td>2018</td>\n",
       "    </tr>\n",
       "    <tr>\n",
       "      <th>97</th>\n",
       "      <td>NaN</td>\n",
       "      <td>98</td>\n",
       "      <td>PaloPro: a platform for knowledge extraction f...</td>\n",
       "      <td>Makrynioti, Nantia; Grivas, Andreas; Sardianos...</td>\n",
       "      <td>Inderscience</td>\n",
       "      <td>2017</td>\n",
       "    </tr>\n",
       "    <tr>\n",
       "      <th>98</th>\n",
       "      <td>NaN</td>\n",
       "      <td>99</td>\n",
       "      <td>A Hierarchical Distributed Processing Framewor...</td>\n",
       "      <td>Dong, L.; Lin, Z.; Liang, Y.; He, L.; Zhang, N...</td>\n",
       "      <td>unknown</td>\n",
       "      <td>2016</td>\n",
       "    </tr>\n",
       "    <tr>\n",
       "      <th>99</th>\n",
       "      <td>NaN</td>\n",
       "      <td>100</td>\n",
       "      <td>An Extended Spatio-Temporal Granger Causality ...</td>\n",
       "      <td>Zhu, J. Y.; Sun, C.; Li, V. O.</td>\n",
       "      <td>unknown</td>\n",
       "      <td>2017</td>\n",
       "    </tr>\n",
       "  </tbody>\n",
       "</table>\n",
       "<p>100 rows × 6 columns</p>\n",
       "</div>"
      ],
      "text/plain": [
       "    Unnamed: 0   번호                                                 제목  \\\n",
       "0          NaN    1  Call for Special Issue Papers: Big Data Analyt...   \n",
       "1          NaN    2  Interview with Dr. Silvio Carta, Author of the...   \n",
       "2          NaN    3  Online Analytical Processing for Business Inte...   \n",
       "3          NaN    4  A Big Data Guide to Understanding Climate Chan...   \n",
       "4          NaN    5  Call for Papers: Special Issue on Big Data in ...   \n",
       "..         ...  ...                                                ...   \n",
       "95         NaN   96    2016 Index IEEE Transactions on Big Data Vol. 2   \n",
       "96         NaN   97  Distributed Feature Selection for Efficient Ec...   \n",
       "97         NaN   98  PaloPro: a platform for knowledge extraction f...   \n",
       "98         NaN   99  A Hierarchical Distributed Processing Framewor...   \n",
       "99         NaN  100  An Extended Spatio-Temporal Granger Causality ...   \n",
       "\n",
       "                                                   저자               출판사   출판일  \n",
       "0   Balamurugan, S.; Muthu, Bala Anand; Peng, Shen...  Mary Ann Leibert  2020  \n",
       "1                                       Carta, Silvio  Mary Ann Leibert  2019  \n",
       "2               Patel, Jigna Ashish; Sharma, Priyanka  Mary Ann Leibert  2020  \n",
       "3                                             unknown  Mary Ann Leibert  2014  \n",
       "4                                             unknown  Mary Ann Leibert  2016  \n",
       "..                                                ...               ...   ...  \n",
       "95                                            unknown           unknown  2017  \n",
       "96     Zhao, L.; Chen, Z.; Hu, Y.; Min, G.; Jiang, Z.           unknown  2018  \n",
       "97  Makrynioti, Nantia; Grivas, Andreas; Sardianos...      Inderscience  2017  \n",
       "98  Dong, L.; Lin, Z.; Liang, Y.; He, L.; Zhang, N...           unknown  2016  \n",
       "99                     Zhu, J. Y.; Sun, C.; Li, V. O.           unknown  2017  \n",
       "\n",
       "[100 rows x 6 columns]"
      ]
     },
     "execution_count": 9,
     "metadata": {},
     "output_type": "execute_result"
    }
   ],
   "source": [
    "all_files_data = [] #저장할 리스트\n",
    "for file in all_files:\n",
    "    data_frame = pd.read_excel(file)\n",
    "    all_files_data.append(data_frame)\n",
    "all_files_data[0] #작업 내용 확인"
   ]
  },
  {
   "cell_type": "code",
   "execution_count": null,
   "metadata": {},
   "outputs": [],
   "source": []
  }
 ],
 "metadata": {
  "kernelspec": {
   "display_name": "Python 3",
   "language": "python",
   "name": "python3"
  },
  "language_info": {
   "codemirror_mode": {
    "name": "ipython",
    "version": 3
   },
   "file_extension": ".py",
   "mimetype": "text/x-python",
   "name": "python",
   "nbconvert_exporter": "python",
   "pygments_lexer": "ipython3",
   "version": "3.7.6"
  }
 },
 "nbformat": 4,
 "nbformat_minor": 4
}
